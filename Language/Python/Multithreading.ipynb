{
 "cells": [
  {
   "cell_type": "markdown",
   "metadata": {},
   "source": [
    "# Multithreading\n",
    "\n",
    "**Multithreading** is defined as the process by which a single code can be used by *several processors* are different stages of execution.\n",
    "\n",
    "## Why do we need Multithreading?\n",
    "1. It provides *simultaneous execution* of *different parts of code*. Thus it better utilizes the CPU capability.\n",
    "2. It helps in improving the *speed of execution* when the software has heavy traffic.\n",
    "3. It helps you perform *multiple tasks at once* rather than waiting for one to complete and then queueing the other one."
   ]
  },
  {
   "cell_type": "markdown",
   "metadata": {},
   "source": [
    "### Multi-threading vs Multi-tasking\n",
    "|Multi-threading|Multi-tasking|\n",
    "|--------|---------------|\n",
    "|Multi-threading refers to a programmable approach to achieve multi-tasking| The art of handling multiple tasks at a given point of time| \n",
    "|Each thread has control of different parts of the program| There is no concept called as thread in multi-tasking.|"
   ]
  },
  {
   "cell_type": "markdown",
   "metadata": {},
   "source": [
    "## 1) Threads\n",
    "\n",
    "### Where do we use multi-threading everyday?\n",
    "1. Multi-threading is used in various games where one thread is controlling your movement, the other threads keep track of environment and movement of other players.\n",
    "2. In modern GUI tools where we have an interface backed by a program. One thread controls execution of the program, the other is ready to accept interaction from user through the widgets in the GUI window.\n",
    "3. Long running applications with extremely high processing time need to have multi-threading enabled so as to accept user inputs while the other thread is processing."
   ]
  },
  {
   "cell_type": "markdown",
   "metadata": {},
   "source": [
    "## 2) Starting a Thread\n",
    "Starting a new thread enables the developer to dedicate it to a particular task in the program. The syntax for starting a new thread varies across languages and modules. The general syntax looks like this. \n",
    "\n",
    "We will study in depth the process of multi-threading in Python!\n",
    "\n",
    "`thread.start_new_thread ( function, args[, kwargs] )`\n",
    "(*thread* module in Python)"
   ]
  },
  {
   "cell_type": "markdown",
   "metadata": {},
   "source": [
    "## 3) Modules for Multi-threading in Python\n",
    "\n",
    "1. *Thread* Module: The Thread module is great for low-level threading but has very limited functionality compared to the threading module\n",
    "2. *Threading* Module:The new threading module provides great control over the threading operations for an efficient execution.\n",
    "\n",
    "### Threading Module\n",
    "We will study the Threading module in depth because it provides greater functionality."
   ]
  },
  {
   "cell_type": "code",
   "execution_count": 2,
   "metadata": {},
   "outputs": [
    {
     "name": "stdout",
     "output_type": "stream",
     "text": [
      "Square: 100\n",
      "Cube: 1000\n",
      "Done!\n"
     ]
    }
   ],
   "source": [
    "import threading \n",
    "  \n",
    "def cube(num): \n",
    "    \"\"\" \n",
    "    function to calculate cube of number\n",
    "    \"\"\"\n",
    "    print(\"Cube: {}\".format(num * num * num)) \n",
    "  \n",
    "def square(num): \n",
    "    \"\"\" \n",
    "    function to calculate square of number \n",
    "    \"\"\"\n",
    "    print(\"Square: {}\".format(num * num)) \n",
    "  \n",
    "if __name__ == \"__main__\": \n",
    "    # creating thread \n",
    "    t1 = threading.Thread(target=square, args=(10,)) \n",
    "    t2 = threading.Thread(target=cube, args=(10,)) \n",
    "  \n",
    "    # starting thread 1 \n",
    "    t1.start() \n",
    "    # starting thread 2 \n",
    "    t2.start() \n",
    "  \n",
    "    # wait until thread 1 is completely executed \n",
    "    t1.join() \n",
    "    # wait until thread 2 is completely executed \n",
    "    t2.join() \n",
    "  \n",
    "    # both threads completely executed \n",
    "    print(\"Done!\") "
   ]
  },
  {
   "cell_type": "markdown",
   "metadata": {},
   "source": [
    "Here, `target=square` and `target=cube` signify the name of the functions the threads are made to handle and the arguments to be passed to the functions are `args=(10,)`.\n"
   ]
  },
  {
   "cell_type": "markdown",
   "metadata": {},
   "source": [
    "## 4) Synchronizing Threads\n",
    "Synchronization of threads is extremely essential in situations where multiple threads access the same function resulting in simultaneous altering of the variables resulting in undesirable outputs. \n",
    "This condition is called the *Race condition*."
   ]
  },
  {
   "cell_type": "code",
   "execution_count": 15,
   "metadata": {},
   "outputs": [
    {
     "name": "stdout",
     "output_type": "stream",
     "text": [
      "Incremented by thread\n",
      "Incremented by thread\n",
      "Iteration 0: x = 200000\n",
      "\n",
      "Incremented by thread\n",
      "Incremented by thread\n",
      "Iteration 1: x = 135852\n",
      "\n",
      "Incremented by thread\n",
      "Incremented by thread\n",
      "Iteration 2: x = 200000\n",
      "\n",
      "Incremented by thread\n",
      "Incremented by thread\n",
      "Iteration 3: x = 200000\n",
      "\n",
      "Incremented by thread\n",
      "Incremented by thread\n",
      "Iteration 4: x = 147635\n",
      "\n",
      "Incremented by thread\n",
      "Incremented by thread\n",
      "Iteration 5: x = 173431\n",
      "\n",
      "Incremented by thread\n",
      "Incremented by thread\n",
      "Iteration 6: x = 143724\n",
      "\n",
      "Incremented by thread\n",
      "Incremented by thread\n",
      "Iteration 7: x = 186635\n",
      "\n",
      "Incremented by thread\n",
      "Incremented by thread\n",
      "Iteration 8: x = 175629\n",
      "\n",
      "Incremented by thread\n",
      "Incremented by thread\n",
      "Iteration 9: x = 183144\n",
      "\n"
     ]
    }
   ],
   "source": [
    "import threading \n",
    "\n",
    "# global variable x \n",
    "x = 0\n",
    "\n",
    "def increment(): \n",
    "    \"\"\" \n",
    "    function to increment global variable x \n",
    "    \"\"\"\n",
    "    global x \n",
    "    x += 1\n",
    "\n",
    "def thread_task(): \n",
    "    \"\"\" \n",
    "    task for thread \n",
    "    calls increment function 100000 times. \n",
    "    \"\"\"\n",
    "    print(\"Incremented by thread\")\n",
    "    for _ in range(100000): \n",
    "        increment() \n",
    "\n",
    "def main_task(): \n",
    "    global x \n",
    "    # setting global variable x as 0 \n",
    "    x = 0\n",
    "\n",
    "    # creating threads \n",
    "    t1 = threading.Thread(target=thread_task) \n",
    "    t2 = threading.Thread(target=thread_task) \n",
    "\n",
    "    # start threads \n",
    "    t1.start() \n",
    "    t2.start() \n",
    "\n",
    "    # wait until threads finish their job \n",
    "    t1.join() \n",
    "    t2.join() \n",
    "\n",
    "if __name__ == \"__main__\": \n",
    "    for i in range(10): \n",
    "        main_task() \n",
    "        print(\"Iteration {0}: x = {1}\\n\".format(i,x)) \n"
   ]
  },
  {
   "cell_type": "markdown",
   "metadata": {},
   "source": [
    "**Explanation**: In every iteration the variable `x` starts from 0 and the ideal output with a single thread after 100000 incrementations is `100000` but as *two* threads are working simultaneously, we see the result close to `200000` which is `100000*2`. The output is not 200000 in every iteration because in race condition we cannot be sure of output. Race condition yields unexpected output because both the threads access the same variable at the same time. \n",
    "\n",
    "This problem is solved by **Synchronization of threads** where we lock the function *thread_task* for a thread so that other threads cannot interfere. "
   ]
  },
  {
   "cell_type": "code",
   "execution_count": 12,
   "metadata": {},
   "outputs": [
    {
     "name": "stdout",
     "output_type": "stream",
     "text": [
      "Incremented by thread\n",
      "Incremented by thread\n",
      "Iteration 0: x = 200000\n",
      "Incremented by thread\n",
      "Incremented by thread\n",
      "Iteration 1: x = 200000\n",
      "Incremented by thread\n",
      "Incremented by thread\n",
      "Iteration 2: x = 200000\n",
      "Incremented by thread\n",
      "Incremented by thread\n",
      "Iteration 3: x = 200000\n",
      "Incremented by thread\n",
      "Incremented by thread\n",
      "Iteration 4: x = 200000\n",
      "Incremented by threadIncremented by thread\n",
      "\n",
      "Iteration 5: x = 200000\n",
      "Incremented by thread\n",
      "Incremented by thread\n",
      "Iteration 6: x = 200000\n",
      "Incremented by thread\n",
      "Incremented by thread\n",
      "Iteration 7: x = 200000\n",
      "Incremented by thread\n",
      "Incremented by thread\n",
      "Iteration 8: x = 200000\n",
      "Incremented by threadIncremented by thread\n",
      "\n",
      "Iteration 9: x = 200000\n"
     ]
    }
   ],
   "source": [
    "import threading \n",
    "\n",
    "# global variable x \n",
    "x = 0\n",
    "\n",
    "def increment(): \n",
    "    \"\"\" \n",
    "    function to increment global variable x \n",
    "    \"\"\"\n",
    "    global x \n",
    "    x += 1\n",
    "\n",
    "def thread_task(lock): \n",
    "    \"\"\" \n",
    "    task for thread \n",
    "    calls increment function 100000 times. \n",
    "    \"\"\"\n",
    "    print(\"Incremented by thread\")\n",
    "    for _ in range(100000): \n",
    "        lock.acquire() \n",
    "        increment() \n",
    "        lock.release() \n",
    "\n",
    "def main_task(): \n",
    "    global x \n",
    "    # setting global variable x as 0 \n",
    "    x = 0\n",
    "\n",
    "    # creating a lock \n",
    "    lock = threading.Lock() \n",
    "\n",
    "    # creating threads \n",
    "    t1 = threading.Thread(target=thread_task, args=(lock,)) \n",
    "    t2 = threading.Thread(target=thread_task, args=(lock,)) \n",
    "\n",
    "    # start threads \n",
    "    t1.start() \n",
    "    t2.start() \n",
    "\n",
    "    # wait until threads finish their job \n",
    "    t1.join() \n",
    "    t2.join() \n",
    "\n",
    "if __name__ == \"__main__\": \n",
    "    for i in range(10): \n",
    "        main_task() \n",
    "        print(\"Iteration {0}: x = {1}\".format(i,x)) \n"
   ]
  },
  {
   "cell_type": "markdown",
   "metadata": {},
   "source": [
    "**Explanation**: In this case the other threads are not allowed to interfere while one thread is executing the increment function. "
   ]
  },
  {
   "cell_type": "markdown",
   "metadata": {},
   "source": [
    "## 5) Multi-threaded Priority Queue\n",
    "\n",
    "The queue module allows the multiple threads to be executed based on their priority. The logic is exactly like the priority queue in C/C++.\n",
    "1. The element with higher priority is dequeued first.\n",
    "2. Two elements with same priority are dequeued according to their order. \n",
    "\n",
    "The queue module provides the following methods to control the execution and order:\n",
    "1. **get()** − The get() removes and returns an item from the queue.\n",
    "\n",
    "2. **put()** − The put adds item to a queue.\n",
    "\n",
    "3. **qsize()** − The qsize() returns the number of items that are currently in the queue.\n",
    "\n",
    "4. **empty()** − The empty( ) returns True if queue is empty; otherwise, False.\n",
    "\n",
    "5. **full()** − the full() returns True if queue is full; otherwise, False."
   ]
  },
  {
   "cell_type": "code",
   "execution_count": 13,
   "metadata": {},
   "outputs": [
    {
     "name": "stdout",
     "output_type": "stream",
     "text": [
      "Starting Thread-1\n",
      "Starting Thread-2Starting Thread-3\n",
      "\n",
      "Thread-2 processing One\n",
      "Thread-2 processing Two\n",
      "Thread-2 processing Three\n",
      "Thread-2 processing Four\n",
      "Thread-2 processing Five\n",
      "Exiting Thread-2\n",
      "Exiting Thread-1\n",
      "Exiting Thread-3\n",
      "Exiting Main Thread\n"
     ]
    }
   ],
   "source": [
    "#!/usr/bin/python3\n",
    "\n",
    "import queue\n",
    "import threading\n",
    "import time\n",
    "\n",
    "exitFlag = 0\n",
    "\n",
    "class myThread (threading.Thread):\n",
    "   def __init__(self, threadID, name, q):\n",
    "      threading.Thread.__init__(self)\n",
    "      self.threadID = threadID\n",
    "      self.name = name\n",
    "      self.q = q\n",
    "   def run(self):\n",
    "      print (\"Starting \" + self.name)\n",
    "      process_data(self.name, self.q)\n",
    "      print (\"Exiting \" + self.name)\n",
    "\n",
    "def process_data(threadName, q):\n",
    "   while not exitFlag:\n",
    "      queueLock.acquire()\n",
    "      if not workQueue.empty():\n",
    "         data = q.get()\n",
    "         queueLock.release()\n",
    "         print (\"%s processing %s\" % (threadName, data))\n",
    "      else:\n",
    "         queueLock.release()\n",
    "         time.sleep(1)\n",
    "\n",
    "threadList = [\"Thread-1\", \"Thread-2\", \"Thread-3\"]\n",
    "nameList = [\"One\", \"Two\", \"Three\", \"Four\", \"Five\"]\n",
    "queueLock = threading.Lock()\n",
    "workQueue = queue.Queue(10)\n",
    "threads = []\n",
    "threadID = 1\n",
    "\n",
    "# Create new threads\n",
    "for tName in threadList:\n",
    "   thread = myThread(threadID, tName, workQueue)\n",
    "   thread.start()\n",
    "   threads.append(thread)\n",
    "   threadID += 1\n",
    "\n",
    "# Fill the queue\n",
    "queueLock.acquire()\n",
    "for word in nameList:\n",
    "   workQueue.put(word)\n",
    "queueLock.release()\n",
    "\n",
    "# Wait for queue to empty\n",
    "while not workQueue.empty():\n",
    "   pass\n",
    "\n",
    "# Notify threads it's time to exit\n",
    "exitFlag = 1\n",
    "\n",
    "# Wait for all threads to complete\n",
    "for t in threads:\n",
    "   t.join()\n",
    "print (\"Exiting Main Thread\")"
   ]
  },
  {
   "cell_type": "markdown",
   "metadata": {},
   "source": [
    "**Explanation:** Here we have an object of queue.Queue() named `workQueue` and a lock object of threading.Lock() named `queueLock`. The basic execution of this code involves:\n",
    "\n",
    "Step 1: Create `workQueue` and `queueLock` object for maintaining a queue of threads and to synchronize the execution of threads respectively. \n",
    "\n",
    "Step 2: Create `thread` object from the class `myThread` and append it to the array `threads`. \n",
    "\n",
    "Step 3: Append the words in `nameList` to the `workQueue` for the execution\n",
    "\n",
    "Step 4: Wait for the threads to complete their execution with `t.join()`\n"
   ]
  },
  {
   "cell_type": "markdown",
   "metadata": {},
   "source": [
    ">This tutorial is intended to be a public resource. As such, if you see any glaring inaccuracies or if a critical topic is missing, please feel free to point it out or (preferably) submit a pull request to improve the tutorial. Also, we are always looking to improve the scope of this article. For anything feel free to mail us @ colearninglounge@gmail.com"
   ]
  },
  {
   "cell_type": "markdown",
   "metadata": {},
   "source": [
    ">Author of this article is Yash Sonar. You can follow him on [LinkedIn](https://www.linkedin.com/in/yash-sonar-b89265176/), [Medium](https://medium.com/@yashsonar213) and [Github](https://github.com/Yash-567) "
   ]
  }
 ],
 "metadata": {
  "kernelspec": {
   "display_name": "Python 3",
   "language": "python",
   "name": "python3"
  },
  "language_info": {
   "codemirror_mode": {
    "name": "ipython",
    "version": 3
   },
   "file_extension": ".py",
   "mimetype": "text/x-python",
   "name": "python",
   "nbconvert_exporter": "python",
   "pygments_lexer": "ipython3",
   "version": "3.7.3"
  }
 },
 "nbformat": 4,
 "nbformat_minor": 2
}
